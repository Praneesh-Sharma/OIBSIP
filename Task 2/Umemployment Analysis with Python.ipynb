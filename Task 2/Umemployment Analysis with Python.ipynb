{
 "cells": [
  {
   "cell_type": "markdown",
   "id": "668de1e3",
   "metadata": {},
   "source": [
    "# UNEMPLOYMENT ANALYSIS WITH PYTHON\n",
    "\n",
    "#### Author - Praneesh Sharma"
   ]
  },
  {
   "cell_type": "markdown",
   "id": "69a08077",
   "metadata": {},
   "source": [
    "### Importing Libraries"
   ]
  },
  {
   "cell_type": "code",
   "execution_count": 2,
   "id": "71bede75",
   "metadata": {},
   "outputs": [
    {
     "name": "stdout",
     "output_type": "stream",
     "text": [
      "Collecting plotly\n",
      "  Downloading plotly-5.14.0-py2.py3-none-any.whl (15.3 MB)\n",
      "Requirement already satisfied: packaging in c:\\users\\kiit\\anaconda3\\lib\\site-packages (from plotly) (21.0)\n",
      "Collecting tenacity>=6.2.0\n",
      "  Downloading tenacity-8.2.2-py3-none-any.whl (24 kB)\n",
      "Requirement already satisfied: pyparsing>=2.0.2 in c:\\users\\kiit\\anaconda3\\lib\\site-packages (from packaging->plotly) (3.0.4)\n",
      "Installing collected packages: tenacity, plotly\n",
      "Successfully installed plotly-5.14.0 tenacity-8.2.2\n"
     ]
    }
   ],
   "source": [
    "!pip install plotly"
   ]
  },
  {
   "cell_type": "code",
   "execution_count": 110,
   "id": "5b9acfad",
   "metadata": {},
   "outputs": [],
   "source": [
    "#for manipulating the dataset\n",
    "import pandas as pd\n",
    "\n",
    "#for working on the data\n",
    "import numpy as np\n",
    "\n",
    "#for data visualizations\n",
    "import matplotlib.pyplot as plt\n",
    "import seaborn as sns\n",
    "import plotly.express as px\n",
    "\n",
    "%matplotlib inline\n",
    "sns.set_style(\"darkgrid\")\n",
    "sns.set(rc={'figure.figsize':(7,5)})\n",
    "\n",
    "import warnings\n",
    "warnings.filterwarnings('ignore')"
   ]
  },
  {
   "cell_type": "markdown",
   "id": "06f10a33",
   "metadata": {},
   "source": [
    "### Importing the dataset"
   ]
  },
  {
   "cell_type": "markdown",
   "id": "48a2984f",
   "metadata": {},
   "source": [
    "We are given 2 datasets, lets explore and find the difference between them."
   ]
  },
  {
   "cell_type": "code",
   "execution_count": 148,
   "id": "e6517937",
   "metadata": {},
   "outputs": [
    {
     "data": {
      "text/html": [
       "<div>\n",
       "<style scoped>\n",
       "    .dataframe tbody tr th:only-of-type {\n",
       "        vertical-align: middle;\n",
       "    }\n",
       "\n",
       "    .dataframe tbody tr th {\n",
       "        vertical-align: top;\n",
       "    }\n",
       "\n",
       "    .dataframe thead th {\n",
       "        text-align: right;\n",
       "    }\n",
       "</style>\n",
       "<table border=\"1\" class=\"dataframe\">\n",
       "  <thead>\n",
       "    <tr style=\"text-align: right;\">\n",
       "      <th></th>\n",
       "      <th>Region</th>\n",
       "      <th>Date</th>\n",
       "      <th>Frequency</th>\n",
       "      <th>Estimated Unemployment Rate (%)</th>\n",
       "      <th>Estimated Employed</th>\n",
       "      <th>Estimated Labour Participation Rate (%)</th>\n",
       "      <th>Area</th>\n",
       "    </tr>\n",
       "  </thead>\n",
       "  <tbody>\n",
       "    <tr>\n",
       "      <th>0</th>\n",
       "      <td>Andhra Pradesh</td>\n",
       "      <td>31-05-2019</td>\n",
       "      <td>Monthly</td>\n",
       "      <td>3.65</td>\n",
       "      <td>11999139.0</td>\n",
       "      <td>43.24</td>\n",
       "      <td>Rural</td>\n",
       "    </tr>\n",
       "    <tr>\n",
       "      <th>1</th>\n",
       "      <td>Andhra Pradesh</td>\n",
       "      <td>30-06-2019</td>\n",
       "      <td>Monthly</td>\n",
       "      <td>3.05</td>\n",
       "      <td>11755881.0</td>\n",
       "      <td>42.05</td>\n",
       "      <td>Rural</td>\n",
       "    </tr>\n",
       "    <tr>\n",
       "      <th>2</th>\n",
       "      <td>Andhra Pradesh</td>\n",
       "      <td>31-07-2019</td>\n",
       "      <td>Monthly</td>\n",
       "      <td>3.75</td>\n",
       "      <td>12086707.0</td>\n",
       "      <td>43.50</td>\n",
       "      <td>Rural</td>\n",
       "    </tr>\n",
       "    <tr>\n",
       "      <th>3</th>\n",
       "      <td>Andhra Pradesh</td>\n",
       "      <td>31-08-2019</td>\n",
       "      <td>Monthly</td>\n",
       "      <td>3.32</td>\n",
       "      <td>12285693.0</td>\n",
       "      <td>43.97</td>\n",
       "      <td>Rural</td>\n",
       "    </tr>\n",
       "    <tr>\n",
       "      <th>4</th>\n",
       "      <td>Andhra Pradesh</td>\n",
       "      <td>30-09-2019</td>\n",
       "      <td>Monthly</td>\n",
       "      <td>5.17</td>\n",
       "      <td>12256762.0</td>\n",
       "      <td>44.68</td>\n",
       "      <td>Rural</td>\n",
       "    </tr>\n",
       "  </tbody>\n",
       "</table>\n",
       "</div>"
      ],
      "text/plain": [
       "           Region        Date Frequency  Estimated Unemployment Rate (%)  \\\n",
       "0  Andhra Pradesh  31-05-2019   Monthly                             3.65   \n",
       "1  Andhra Pradesh  30-06-2019   Monthly                             3.05   \n",
       "2  Andhra Pradesh  31-07-2019   Monthly                             3.75   \n",
       "3  Andhra Pradesh  31-08-2019   Monthly                             3.32   \n",
       "4  Andhra Pradesh  30-09-2019   Monthly                             5.17   \n",
       "\n",
       "   Estimated Employed  Estimated Labour Participation Rate (%)   Area  \n",
       "0          11999139.0                                    43.24  Rural  \n",
       "1          11755881.0                                    42.05  Rural  \n",
       "2          12086707.0                                    43.50  Rural  \n",
       "3          12285693.0                                    43.97  Rural  \n",
       "4          12256762.0                                    44.68  Rural  "
      ]
     },
     "execution_count": 148,
     "metadata": {},
     "output_type": "execute_result"
    }
   ],
   "source": [
    "data = pd.read_csv(\"Unemployment in India.csv\",skipinitialspace = True)\n",
    "data.head()"
   ]
  },
  {
   "cell_type": "code",
   "execution_count": 31,
   "id": "11cc35ae",
   "metadata": {},
   "outputs": [
    {
     "data": {
      "text/html": [
       "<div>\n",
       "<style scoped>\n",
       "    .dataframe tbody tr th:only-of-type {\n",
       "        vertical-align: middle;\n",
       "    }\n",
       "\n",
       "    .dataframe tbody tr th {\n",
       "        vertical-align: top;\n",
       "    }\n",
       "\n",
       "    .dataframe thead th {\n",
       "        text-align: right;\n",
       "    }\n",
       "</style>\n",
       "<table border=\"1\" class=\"dataframe\">\n",
       "  <thead>\n",
       "    <tr style=\"text-align: right;\">\n",
       "      <th></th>\n",
       "      <th>Region</th>\n",
       "      <th>Date</th>\n",
       "      <th>Frequency</th>\n",
       "      <th>Estimated Unemployment Rate (%)</th>\n",
       "      <th>Estimated Employed</th>\n",
       "      <th>Estimated Labour Participation Rate (%)</th>\n",
       "      <th>Region.1</th>\n",
       "      <th>longitude</th>\n",
       "      <th>latitude</th>\n",
       "    </tr>\n",
       "  </thead>\n",
       "  <tbody>\n",
       "    <tr>\n",
       "      <th>0</th>\n",
       "      <td>Andhra Pradesh</td>\n",
       "      <td>31-01-2020</td>\n",
       "      <td>M</td>\n",
       "      <td>5.48</td>\n",
       "      <td>16635535</td>\n",
       "      <td>41.02</td>\n",
       "      <td>South</td>\n",
       "      <td>15.9129</td>\n",
       "      <td>79.74</td>\n",
       "    </tr>\n",
       "    <tr>\n",
       "      <th>1</th>\n",
       "      <td>Andhra Pradesh</td>\n",
       "      <td>29-02-2020</td>\n",
       "      <td>M</td>\n",
       "      <td>5.83</td>\n",
       "      <td>16545652</td>\n",
       "      <td>40.90</td>\n",
       "      <td>South</td>\n",
       "      <td>15.9129</td>\n",
       "      <td>79.74</td>\n",
       "    </tr>\n",
       "    <tr>\n",
       "      <th>2</th>\n",
       "      <td>Andhra Pradesh</td>\n",
       "      <td>31-03-2020</td>\n",
       "      <td>M</td>\n",
       "      <td>5.79</td>\n",
       "      <td>15881197</td>\n",
       "      <td>39.18</td>\n",
       "      <td>South</td>\n",
       "      <td>15.9129</td>\n",
       "      <td>79.74</td>\n",
       "    </tr>\n",
       "    <tr>\n",
       "      <th>3</th>\n",
       "      <td>Andhra Pradesh</td>\n",
       "      <td>30-04-2020</td>\n",
       "      <td>M</td>\n",
       "      <td>20.51</td>\n",
       "      <td>11336911</td>\n",
       "      <td>33.10</td>\n",
       "      <td>South</td>\n",
       "      <td>15.9129</td>\n",
       "      <td>79.74</td>\n",
       "    </tr>\n",
       "    <tr>\n",
       "      <th>4</th>\n",
       "      <td>Andhra Pradesh</td>\n",
       "      <td>31-05-2020</td>\n",
       "      <td>M</td>\n",
       "      <td>17.43</td>\n",
       "      <td>12988845</td>\n",
       "      <td>36.46</td>\n",
       "      <td>South</td>\n",
       "      <td>15.9129</td>\n",
       "      <td>79.74</td>\n",
       "    </tr>\n",
       "  </tbody>\n",
       "</table>\n",
       "</div>"
      ],
      "text/plain": [
       "           Region         Date  Frequency   Estimated Unemployment Rate (%)  \\\n",
       "0  Andhra Pradesh   31-01-2020          M                              5.48   \n",
       "1  Andhra Pradesh   29-02-2020          M                              5.83   \n",
       "2  Andhra Pradesh   31-03-2020          M                              5.79   \n",
       "3  Andhra Pradesh   30-04-2020          M                             20.51   \n",
       "4  Andhra Pradesh   31-05-2020          M                             17.43   \n",
       "\n",
       "    Estimated Employed   Estimated Labour Participation Rate (%) Region.1  \\\n",
       "0             16635535                                     41.02    South   \n",
       "1             16545652                                     40.90    South   \n",
       "2             15881197                                     39.18    South   \n",
       "3             11336911                                     33.10    South   \n",
       "4             12988845                                     36.46    South   \n",
       "\n",
       "   longitude  latitude  \n",
       "0    15.9129     79.74  \n",
       "1    15.9129     79.74  \n",
       "2    15.9129     79.74  \n",
       "3    15.9129     79.74  \n",
       "4    15.9129     79.74  "
      ]
     },
     "execution_count": 31,
     "metadata": {},
     "output_type": "execute_result"
    }
   ],
   "source": [
    "data_2 = pd.read_csv(\"Unemployment_Rate_upto_11_2020.csv\")\n",
    "data_2.head()"
   ]
  },
  {
   "cell_type": "code",
   "execution_count": 149,
   "id": "92588c27",
   "metadata": {},
   "outputs": [
    {
     "name": "stdout",
     "output_type": "stream",
     "text": [
      "FIRST Dataset:\n",
      "Number of rows : 768\n",
      "Number of columns : 7\n",
      "\n",
      "\n",
      "Second Dataset:\n",
      "Number of rows : 267\n",
      "Number of columns : 9\n"
     ]
    }
   ],
   "source": [
    "#dimensions of the first dataset\n",
    "print(\"FIRST Dataset:\\nNumber of rows : %d\\nNumber of columns : %d\" %(data.shape))\n",
    "print(\"\\n\\nSecond Dataset:\\nNumber of rows : %d\\nNumber of columns : %d\" %(data2.shape))"
   ]
  },
  {
   "cell_type": "markdown",
   "id": "b5c6ee7b",
   "metadata": {},
   "source": [
    "#### Pre-Processing dataset 1"
   ]
  },
  {
   "cell_type": "code",
   "execution_count": 150,
   "id": "909560bb",
   "metadata": {},
   "outputs": [
    {
     "data": {
      "text/plain": [
       "Region                                     28\n",
       "Date                                       28\n",
       "Frequency                                  28\n",
       "Estimated Unemployment Rate (%)            28\n",
       "Estimated Employed                         28\n",
       "Estimated Labour Participation Rate (%)    28\n",
       "Area                                       28\n",
       "dtype: int64"
      ]
     },
     "execution_count": 150,
     "metadata": {},
     "output_type": "execute_result"
    }
   ],
   "source": [
    "#checking for null values\n",
    "data.isnull().sum()"
   ]
  },
  {
   "cell_type": "markdown",
   "id": "37802f7e",
   "metadata": {},
   "source": [
    "There are 28 null values in the given dataset"
   ]
  },
  {
   "cell_type": "code",
   "execution_count": 151,
   "id": "b180ea94",
   "metadata": {},
   "outputs": [],
   "source": [
    "#removing all the null values\n",
    "data = data.dropna()"
   ]
  },
  {
   "cell_type": "code",
   "execution_count": 152,
   "id": "47479fb3",
   "metadata": {},
   "outputs": [
    {
     "name": "stdout",
     "output_type": "stream",
     "text": [
      "Region\n",
      "Date\n",
      "Frequency\n",
      "Estimated Unemployment Rate (%)\n",
      "Estimated Employed\n",
      "Estimated Labour Participation Rate (%)\n",
      "Area\n"
     ]
    }
   ],
   "source": [
    "for col in data.columns:\n",
    "    print(col)"
   ]
  },
  {
   "cell_type": "markdown",
   "id": "cc44ff5d",
   "metadata": {},
   "source": [
    "As seen here, some column names have white spaces as well as special characters. Let's remove them for easier access."
   ]
  },
  {
   "cell_type": "code",
   "execution_count": 153,
   "id": "86c4b59d",
   "metadata": {},
   "outputs": [
    {
     "data": {
      "text/html": [
       "<div>\n",
       "<style scoped>\n",
       "    .dataframe tbody tr th:only-of-type {\n",
       "        vertical-align: middle;\n",
       "    }\n",
       "\n",
       "    .dataframe tbody tr th {\n",
       "        vertical-align: top;\n",
       "    }\n",
       "\n",
       "    .dataframe thead th {\n",
       "        text-align: right;\n",
       "    }\n",
       "</style>\n",
       "<table border=\"1\" class=\"dataframe\">\n",
       "  <thead>\n",
       "    <tr style=\"text-align: right;\">\n",
       "      <th></th>\n",
       "      <th>Region</th>\n",
       "      <th>Date</th>\n",
       "      <th>Frequency</th>\n",
       "      <th>Unemployment_Rate</th>\n",
       "      <th>Employed</th>\n",
       "      <th>Labour_Participation_Rate</th>\n",
       "      <th>Area</th>\n",
       "    </tr>\n",
       "  </thead>\n",
       "  <tbody>\n",
       "    <tr>\n",
       "      <th>0</th>\n",
       "      <td>Andhra Pradesh</td>\n",
       "      <td>31-05-2019</td>\n",
       "      <td>Monthly</td>\n",
       "      <td>3.65</td>\n",
       "      <td>11999139.0</td>\n",
       "      <td>43.24</td>\n",
       "      <td>Rural</td>\n",
       "    </tr>\n",
       "    <tr>\n",
       "      <th>1</th>\n",
       "      <td>Andhra Pradesh</td>\n",
       "      <td>30-06-2019</td>\n",
       "      <td>Monthly</td>\n",
       "      <td>3.05</td>\n",
       "      <td>11755881.0</td>\n",
       "      <td>42.05</td>\n",
       "      <td>Rural</td>\n",
       "    </tr>\n",
       "    <tr>\n",
       "      <th>2</th>\n",
       "      <td>Andhra Pradesh</td>\n",
       "      <td>31-07-2019</td>\n",
       "      <td>Monthly</td>\n",
       "      <td>3.75</td>\n",
       "      <td>12086707.0</td>\n",
       "      <td>43.50</td>\n",
       "      <td>Rural</td>\n",
       "    </tr>\n",
       "    <tr>\n",
       "      <th>3</th>\n",
       "      <td>Andhra Pradesh</td>\n",
       "      <td>31-08-2019</td>\n",
       "      <td>Monthly</td>\n",
       "      <td>3.32</td>\n",
       "      <td>12285693.0</td>\n",
       "      <td>43.97</td>\n",
       "      <td>Rural</td>\n",
       "    </tr>\n",
       "    <tr>\n",
       "      <th>4</th>\n",
       "      <td>Andhra Pradesh</td>\n",
       "      <td>30-09-2019</td>\n",
       "      <td>Monthly</td>\n",
       "      <td>5.17</td>\n",
       "      <td>12256762.0</td>\n",
       "      <td>44.68</td>\n",
       "      <td>Rural</td>\n",
       "    </tr>\n",
       "  </tbody>\n",
       "</table>\n",
       "</div>"
      ],
      "text/plain": [
       "           Region        Date Frequency  Unemployment_Rate    Employed  \\\n",
       "0  Andhra Pradesh  31-05-2019   Monthly               3.65  11999139.0   \n",
       "1  Andhra Pradesh  30-06-2019   Monthly               3.05  11755881.0   \n",
       "2  Andhra Pradesh  31-07-2019   Monthly               3.75  12086707.0   \n",
       "3  Andhra Pradesh  31-08-2019   Monthly               3.32  12285693.0   \n",
       "4  Andhra Pradesh  30-09-2019   Monthly               5.17  12256762.0   \n",
       "\n",
       "   Labour_Participation_Rate   Area  \n",
       "0                      43.24  Rural  \n",
       "1                      42.05  Rural  \n",
       "2                      43.50  Rural  \n",
       "3                      43.97  Rural  \n",
       "4                      44.68  Rural  "
      ]
     },
     "execution_count": 153,
     "metadata": {},
     "output_type": "execute_result"
    }
   ],
   "source": [
    "data.columns = ['Region','Date','Frequency','Unemployment_Rate','Employed','Labour_Participation_Rate','Area']\n",
    "data.head()"
   ]
  },
  {
   "cell_type": "code",
   "execution_count": 169,
   "id": "d4142beb",
   "metadata": {},
   "outputs": [
    {
     "data": {
      "text/html": [
       "<div>\n",
       "<style scoped>\n",
       "    .dataframe tbody tr th:only-of-type {\n",
       "        vertical-align: middle;\n",
       "    }\n",
       "\n",
       "    .dataframe tbody tr th {\n",
       "        vertical-align: top;\n",
       "    }\n",
       "\n",
       "    .dataframe thead th {\n",
       "        text-align: right;\n",
       "    }\n",
       "</style>\n",
       "<table border=\"1\" class=\"dataframe\">\n",
       "  <thead>\n",
       "    <tr style=\"text-align: right;\">\n",
       "      <th></th>\n",
       "      <th>Region</th>\n",
       "      <th>Date</th>\n",
       "      <th>Frequency</th>\n",
       "      <th>Unemployment_Rate</th>\n",
       "      <th>Employed</th>\n",
       "      <th>Labour_Participation_Rate</th>\n",
       "      <th>Area</th>\n",
       "      <th>day</th>\n",
       "      <th>month</th>\n",
       "      <th>year</th>\n",
       "      <th>Day</th>\n",
       "      <th>Month</th>\n",
       "      <th>Year</th>\n",
       "    </tr>\n",
       "  </thead>\n",
       "  <tbody>\n",
       "    <tr>\n",
       "      <th>0</th>\n",
       "      <td>Andhra Pradesh</td>\n",
       "      <td>2019-05-31</td>\n",
       "      <td>Monthly</td>\n",
       "      <td>3.65</td>\n",
       "      <td>11999139.0</td>\n",
       "      <td>43.24</td>\n",
       "      <td>Rural</td>\n",
       "      <td>31</td>\n",
       "      <td>5</td>\n",
       "      <td>2019</td>\n",
       "      <td>31</td>\n",
       "      <td>5</td>\n",
       "      <td>2019</td>\n",
       "    </tr>\n",
       "    <tr>\n",
       "      <th>1</th>\n",
       "      <td>Andhra Pradesh</td>\n",
       "      <td>2019-06-30</td>\n",
       "      <td>Monthly</td>\n",
       "      <td>3.05</td>\n",
       "      <td>11755881.0</td>\n",
       "      <td>42.05</td>\n",
       "      <td>Rural</td>\n",
       "      <td>30</td>\n",
       "      <td>6</td>\n",
       "      <td>2019</td>\n",
       "      <td>30</td>\n",
       "      <td>6</td>\n",
       "      <td>2019</td>\n",
       "    </tr>\n",
       "    <tr>\n",
       "      <th>2</th>\n",
       "      <td>Andhra Pradesh</td>\n",
       "      <td>2019-07-31</td>\n",
       "      <td>Monthly</td>\n",
       "      <td>3.75</td>\n",
       "      <td>12086707.0</td>\n",
       "      <td>43.50</td>\n",
       "      <td>Rural</td>\n",
       "      <td>31</td>\n",
       "      <td>7</td>\n",
       "      <td>2019</td>\n",
       "      <td>31</td>\n",
       "      <td>7</td>\n",
       "      <td>2019</td>\n",
       "    </tr>\n",
       "    <tr>\n",
       "      <th>3</th>\n",
       "      <td>Andhra Pradesh</td>\n",
       "      <td>2019-08-31</td>\n",
       "      <td>Monthly</td>\n",
       "      <td>3.32</td>\n",
       "      <td>12285693.0</td>\n",
       "      <td>43.97</td>\n",
       "      <td>Rural</td>\n",
       "      <td>31</td>\n",
       "      <td>8</td>\n",
       "      <td>2019</td>\n",
       "      <td>31</td>\n",
       "      <td>8</td>\n",
       "      <td>2019</td>\n",
       "    </tr>\n",
       "    <tr>\n",
       "      <th>4</th>\n",
       "      <td>Andhra Pradesh</td>\n",
       "      <td>2019-09-30</td>\n",
       "      <td>Monthly</td>\n",
       "      <td>5.17</td>\n",
       "      <td>12256762.0</td>\n",
       "      <td>44.68</td>\n",
       "      <td>Rural</td>\n",
       "      <td>30</td>\n",
       "      <td>9</td>\n",
       "      <td>2019</td>\n",
       "      <td>30</td>\n",
       "      <td>9</td>\n",
       "      <td>2019</td>\n",
       "    </tr>\n",
       "  </tbody>\n",
       "</table>\n",
       "</div>"
      ],
      "text/plain": [
       "           Region       Date Frequency  Unemployment_Rate    Employed  \\\n",
       "0  Andhra Pradesh 2019-05-31   Monthly               3.65  11999139.0   \n",
       "1  Andhra Pradesh 2019-06-30   Monthly               3.05  11755881.0   \n",
       "2  Andhra Pradesh 2019-07-31   Monthly               3.75  12086707.0   \n",
       "3  Andhra Pradesh 2019-08-31   Monthly               3.32  12285693.0   \n",
       "4  Andhra Pradesh 2019-09-30   Monthly               5.17  12256762.0   \n",
       "\n",
       "   Labour_Participation_Rate   Area  day  month  year  Day  Month  Year  \n",
       "0                      43.24  Rural   31      5  2019   31      5  2019  \n",
       "1                      42.05  Rural   30      6  2019   30      6  2019  \n",
       "2                      43.50  Rural   31      7  2019   31      7  2019  \n",
       "3                      43.97  Rural   31      8  2019   31      8  2019  \n",
       "4                      44.68  Rural   30      9  2019   30      9  2019  "
      ]
     },
     "execution_count": 169,
     "metadata": {},
     "output_type": "execute_result"
    }
   ],
   "source": [
    "#converting date column from string type to datetime type\n",
    "data['Date'] = data['Date'].astype('datetime64[ns]')\n",
    "\n",
    "#splitting the date column into date, month and year\n",
    "\n",
    "data[\"Day\"] = data['Date'].map(lambda x: x.day)\n",
    "data[\"Month\"] = data['Date'].map(lambda x: x.month)\n",
    "data[\"Year\"] = data['Date'].map(lambda x: x.year)\n",
    "\n",
    "data.head()"
   ]
  },
  {
   "cell_type": "markdown",
   "id": "9c991940",
   "metadata": {},
   "source": [
    "#### Pre-Processing dataset 2"
   ]
  },
  {
   "cell_type": "code",
   "execution_count": 130,
   "id": "1f603431",
   "metadata": {},
   "outputs": [
    {
     "data": {
      "text/plain": [
       "Region                                      0\n",
       " Date                                       0\n",
       " Frequency                                  0\n",
       " Estimated Unemployment Rate (%)            0\n",
       " Estimated Employed                         0\n",
       " Estimated Labour Participation Rate (%)    0\n",
       "Region.1                                    0\n",
       "longitude                                   0\n",
       "latitude                                    0\n",
       "dtype: int64"
      ]
     },
     "execution_count": 130,
     "metadata": {},
     "output_type": "execute_result"
    }
   ],
   "source": [
    "#checking for null values\n",
    "data2.isnull().sum()"
   ]
  },
  {
   "cell_type": "markdown",
   "id": "04e71a22",
   "metadata": {},
   "source": [
    "This is a clean datset."
   ]
  },
  {
   "cell_type": "code",
   "execution_count": 131,
   "id": "33b52e16",
   "metadata": {},
   "outputs": [
    {
     "name": "stdout",
     "output_type": "stream",
     "text": [
      "Region\n",
      " Date\n",
      " Frequency\n",
      " Estimated Unemployment Rate (%)\n",
      " Estimated Employed\n",
      " Estimated Labour Participation Rate (%)\n",
      "Region.1\n",
      "longitude\n",
      "latitude\n"
     ]
    }
   ],
   "source": [
    "for col in data2.columns:\n",
    "    print(col)"
   ]
  },
  {
   "cell_type": "markdown",
   "id": "2098d5d4",
   "metadata": {},
   "source": [
    "As seen here, some column names have white spaces as well as special characters. Let's remove them for easier access."
   ]
  },
  {
   "cell_type": "code",
   "execution_count": 132,
   "id": "bf5b6e48",
   "metadata": {},
   "outputs": [
    {
     "data": {
      "text/html": [
       "<div>\n",
       "<style scoped>\n",
       "    .dataframe tbody tr th:only-of-type {\n",
       "        vertical-align: middle;\n",
       "    }\n",
       "\n",
       "    .dataframe tbody tr th {\n",
       "        vertical-align: top;\n",
       "    }\n",
       "\n",
       "    .dataframe thead th {\n",
       "        text-align: right;\n",
       "    }\n",
       "</style>\n",
       "<table border=\"1\" class=\"dataframe\">\n",
       "  <thead>\n",
       "    <tr style=\"text-align: right;\">\n",
       "      <th></th>\n",
       "      <th>Region</th>\n",
       "      <th>Date</th>\n",
       "      <th>Frequency</th>\n",
       "      <th>Unemployment_Rate</th>\n",
       "      <th>Employed</th>\n",
       "      <th>Labour_Participation_Rate</th>\n",
       "      <th>Area</th>\n",
       "      <th>longitude</th>\n",
       "      <th>latutide</th>\n",
       "    </tr>\n",
       "  </thead>\n",
       "  <tbody>\n",
       "    <tr>\n",
       "      <th>0</th>\n",
       "      <td>Andhra Pradesh</td>\n",
       "      <td>31-01-2020</td>\n",
       "      <td>M</td>\n",
       "      <td>5.48</td>\n",
       "      <td>16635535</td>\n",
       "      <td>41.02</td>\n",
       "      <td>South</td>\n",
       "      <td>15.9129</td>\n",
       "      <td>79.74</td>\n",
       "    </tr>\n",
       "    <tr>\n",
       "      <th>1</th>\n",
       "      <td>Andhra Pradesh</td>\n",
       "      <td>29-02-2020</td>\n",
       "      <td>M</td>\n",
       "      <td>5.83</td>\n",
       "      <td>16545652</td>\n",
       "      <td>40.90</td>\n",
       "      <td>South</td>\n",
       "      <td>15.9129</td>\n",
       "      <td>79.74</td>\n",
       "    </tr>\n",
       "    <tr>\n",
       "      <th>2</th>\n",
       "      <td>Andhra Pradesh</td>\n",
       "      <td>31-03-2020</td>\n",
       "      <td>M</td>\n",
       "      <td>5.79</td>\n",
       "      <td>15881197</td>\n",
       "      <td>39.18</td>\n",
       "      <td>South</td>\n",
       "      <td>15.9129</td>\n",
       "      <td>79.74</td>\n",
       "    </tr>\n",
       "    <tr>\n",
       "      <th>3</th>\n",
       "      <td>Andhra Pradesh</td>\n",
       "      <td>30-04-2020</td>\n",
       "      <td>M</td>\n",
       "      <td>20.51</td>\n",
       "      <td>11336911</td>\n",
       "      <td>33.10</td>\n",
       "      <td>South</td>\n",
       "      <td>15.9129</td>\n",
       "      <td>79.74</td>\n",
       "    </tr>\n",
       "    <tr>\n",
       "      <th>4</th>\n",
       "      <td>Andhra Pradesh</td>\n",
       "      <td>31-05-2020</td>\n",
       "      <td>M</td>\n",
       "      <td>17.43</td>\n",
       "      <td>12988845</td>\n",
       "      <td>36.46</td>\n",
       "      <td>South</td>\n",
       "      <td>15.9129</td>\n",
       "      <td>79.74</td>\n",
       "    </tr>\n",
       "  </tbody>\n",
       "</table>\n",
       "</div>"
      ],
      "text/plain": [
       "           Region         Date Frequency  Unemployment_Rate  Employed  \\\n",
       "0  Andhra Pradesh   31-01-2020         M               5.48  16635535   \n",
       "1  Andhra Pradesh   29-02-2020         M               5.83  16545652   \n",
       "2  Andhra Pradesh   31-03-2020         M               5.79  15881197   \n",
       "3  Andhra Pradesh   30-04-2020         M              20.51  11336911   \n",
       "4  Andhra Pradesh   31-05-2020         M              17.43  12988845   \n",
       "\n",
       "   Labour_Participation_Rate   Area  longitude  latutide  \n",
       "0                      41.02  South    15.9129     79.74  \n",
       "1                      40.90  South    15.9129     79.74  \n",
       "2                      39.18  South    15.9129     79.74  \n",
       "3                      33.10  South    15.9129     79.74  \n",
       "4                      36.46  South    15.9129     79.74  "
      ]
     },
     "execution_count": 132,
     "metadata": {},
     "output_type": "execute_result"
    }
   ],
   "source": [
    "data2.columns = ['Region','Date','Frequency','Unemployment_Rate','Employed','Labour_Participation_Rate',\n",
    "                 'Area','longitude','latutide']\n",
    "data2.head()"
   ]
  },
  {
   "cell_type": "code",
   "execution_count": 185,
   "id": "93420ebc",
   "metadata": {},
   "outputs": [
    {
     "data": {
      "text/html": [
       "<div>\n",
       "<style scoped>\n",
       "    .dataframe tbody tr th:only-of-type {\n",
       "        vertical-align: middle;\n",
       "    }\n",
       "\n",
       "    .dataframe tbody tr th {\n",
       "        vertical-align: top;\n",
       "    }\n",
       "\n",
       "    .dataframe thead th {\n",
       "        text-align: right;\n",
       "    }\n",
       "</style>\n",
       "<table border=\"1\" class=\"dataframe\">\n",
       "  <thead>\n",
       "    <tr style=\"text-align: right;\">\n",
       "      <th></th>\n",
       "      <th>Region</th>\n",
       "      <th>Date</th>\n",
       "      <th>Frequency</th>\n",
       "      <th>Unemployment_Rate</th>\n",
       "      <th>Employed</th>\n",
       "      <th>Labour_Participation_Rate</th>\n",
       "      <th>Area</th>\n",
       "      <th>longitude</th>\n",
       "      <th>latutide</th>\n",
       "      <th>day</th>\n",
       "      <th>month</th>\n",
       "      <th>year</th>\n",
       "      <th>Day</th>\n",
       "      <th>Month</th>\n",
       "      <th>Year</th>\n",
       "    </tr>\n",
       "  </thead>\n",
       "  <tbody>\n",
       "    <tr>\n",
       "      <th>0</th>\n",
       "      <td>Andhra Pradesh</td>\n",
       "      <td>2019-05-31</td>\n",
       "      <td>M</td>\n",
       "      <td>5.48</td>\n",
       "      <td>16635535</td>\n",
       "      <td>41.02</td>\n",
       "      <td>South</td>\n",
       "      <td>15.9129</td>\n",
       "      <td>79.74</td>\n",
       "      <td>31</td>\n",
       "      <td>5</td>\n",
       "      <td>2019</td>\n",
       "      <td>31</td>\n",
       "      <td>5</td>\n",
       "      <td>2019</td>\n",
       "    </tr>\n",
       "    <tr>\n",
       "      <th>1</th>\n",
       "      <td>Andhra Pradesh</td>\n",
       "      <td>2019-06-30</td>\n",
       "      <td>M</td>\n",
       "      <td>5.83</td>\n",
       "      <td>16545652</td>\n",
       "      <td>40.90</td>\n",
       "      <td>South</td>\n",
       "      <td>15.9129</td>\n",
       "      <td>79.74</td>\n",
       "      <td>30</td>\n",
       "      <td>6</td>\n",
       "      <td>2019</td>\n",
       "      <td>30</td>\n",
       "      <td>6</td>\n",
       "      <td>2019</td>\n",
       "    </tr>\n",
       "    <tr>\n",
       "      <th>2</th>\n",
       "      <td>Andhra Pradesh</td>\n",
       "      <td>2019-07-31</td>\n",
       "      <td>M</td>\n",
       "      <td>5.79</td>\n",
       "      <td>15881197</td>\n",
       "      <td>39.18</td>\n",
       "      <td>South</td>\n",
       "      <td>15.9129</td>\n",
       "      <td>79.74</td>\n",
       "      <td>31</td>\n",
       "      <td>7</td>\n",
       "      <td>2019</td>\n",
       "      <td>31</td>\n",
       "      <td>7</td>\n",
       "      <td>2019</td>\n",
       "    </tr>\n",
       "    <tr>\n",
       "      <th>3</th>\n",
       "      <td>Andhra Pradesh</td>\n",
       "      <td>2019-08-31</td>\n",
       "      <td>M</td>\n",
       "      <td>20.51</td>\n",
       "      <td>11336911</td>\n",
       "      <td>33.10</td>\n",
       "      <td>South</td>\n",
       "      <td>15.9129</td>\n",
       "      <td>79.74</td>\n",
       "      <td>31</td>\n",
       "      <td>8</td>\n",
       "      <td>2019</td>\n",
       "      <td>31</td>\n",
       "      <td>8</td>\n",
       "      <td>2019</td>\n",
       "    </tr>\n",
       "    <tr>\n",
       "      <th>4</th>\n",
       "      <td>Andhra Pradesh</td>\n",
       "      <td>2019-09-30</td>\n",
       "      <td>M</td>\n",
       "      <td>17.43</td>\n",
       "      <td>12988845</td>\n",
       "      <td>36.46</td>\n",
       "      <td>South</td>\n",
       "      <td>15.9129</td>\n",
       "      <td>79.74</td>\n",
       "      <td>30</td>\n",
       "      <td>9</td>\n",
       "      <td>2019</td>\n",
       "      <td>30</td>\n",
       "      <td>9</td>\n",
       "      <td>2019</td>\n",
       "    </tr>\n",
       "  </tbody>\n",
       "</table>\n",
       "</div>"
      ],
      "text/plain": [
       "           Region       Date Frequency  Unemployment_Rate  Employed  \\\n",
       "0  Andhra Pradesh 2019-05-31         M               5.48  16635535   \n",
       "1  Andhra Pradesh 2019-06-30         M               5.83  16545652   \n",
       "2  Andhra Pradesh 2019-07-31         M               5.79  15881197   \n",
       "3  Andhra Pradesh 2019-08-31         M              20.51  11336911   \n",
       "4  Andhra Pradesh 2019-09-30         M              17.43  12988845   \n",
       "\n",
       "   Labour_Participation_Rate   Area  longitude  latutide  day  month  year  \\\n",
       "0                      41.02  South    15.9129     79.74   31      5  2019   \n",
       "1                      40.90  South    15.9129     79.74   30      6  2019   \n",
       "2                      39.18  South    15.9129     79.74   31      7  2019   \n",
       "3                      33.10  South    15.9129     79.74   31      8  2019   \n",
       "4                      36.46  South    15.9129     79.74   30      9  2019   \n",
       "\n",
       "   Day  Month  Year  \n",
       "0   31      5  2019  \n",
       "1   30      6  2019  \n",
       "2   31      7  2019  \n",
       "3   31      8  2019  \n",
       "4   30      9  2019  "
      ]
     },
     "execution_count": 185,
     "metadata": {},
     "output_type": "execute_result"
    }
   ],
   "source": [
    "#converting date column from string type to datetime type\n",
    "data2['Date'] = data2['Date'].astype('datetime64[ns]')\n",
    "\n",
    "#splitting the date column into date, month and year\n",
    "data2[\"Day\"] = data2['Date'].map(lambda x: x.day)\n",
    "data2[\"Month\"] = data2['Date'].map(lambda x: x.month)\n",
    "data2[\"Year\"] = data2['Date'].map(lambda x: x.year)\n",
    "\n",
    "data2.head()"
   ]
  },
  {
   "cell_type": "markdown",
   "id": "60a75f30",
   "metadata": {},
   "source": [
    "### Exploratory Data Analysis"
   ]
  },
  {
   "cell_type": "code",
   "execution_count": 186,
   "id": "5406bc07",
   "metadata": {},
   "outputs": [
    {
     "data": {
      "image/png": "[encoded data removed]",
      "text/plain": [
       "<Figure size 504x360 with 1 Axes>"
      ]
     },
     "metadata": {},
     "output_type": "display_data"
    }
   ],
   "source": [
    "#dataset1\n",
    "plt.title(\"Indian Umemployment\")\n",
    "sns.histplot(x=\"Unemployment_Rate\",hue=\"Area\",data=data)\n",
    "plt.show()"
   ]
  },
  {
   "cell_type": "markdown",
   "id": "df65ad75",
   "metadata": {},
   "source": [
    "The unemployment rate in Rural areas was significantly more than that of Urban areas in the pre-covid times"
   ]
  },
  {
   "cell_type": "code",
   "execution_count": 224,
   "id": "2565b093",
   "metadata": {},
   "outputs": [
    {
     "data": {
      "image/png": "[encoded data removed]",
      "text/plain": [
       "<Figure size 504x360 with 1 Axes>"
      ]
     },
     "metadata": {},
     "output_type": "display_data"
    }
   ],
   "source": [
    "#dataset2\n",
    "plt.title(\"Indian Umemployment\")\n",
    "sns.histplot(x=\"Unemployment_Rate\",hue=\"Year\",data=data2)\n",
    "plt.show()"
   ]
  },
  {
   "cell_type": "markdown",
   "id": "0a16ad8f",
   "metadata": {},
   "source": [
    "As seen there, the unemployment rate if quite hight in the year 2020"
   ]
  },
  {
   "cell_type": "markdown",
   "id": "de0a4d47",
   "metadata": {},
   "source": [
    "#### Joint Graphs"
   ]
  },
  {
   "cell_type": "code",
   "execution_count": 221,
   "id": "77758894",
   "metadata": {},
   "outputs": [
    {
     "data": {
      "image/png": "[encoded data removed]",
      "text/plain": [
       "<Figure size 576x360 with 1 Axes>"
      ]
     },
     "metadata": {},
     "output_type": "display_data"
    }
   ],
   "source": [
    "# take the mean of rate state by state\n",
    "grouped_df = data.groupby([\"Region\"])[\"Unemployment_Rate\"].aggregate(\"mean\").reset_index()\n",
    "grouped_df2 = data2.groupby([\"Region\"])[\"Unemployment_Rate\"].aggregate(\"mean\").reset_index()\n",
    "\n",
    "plt.figure(figsize=(8,5))\n",
    "sns.pointplot(grouped_df['Region'].values, grouped_df['Unemployment_Rate'].values, alpha=0.8, color=color[1])\n",
    "sns.pointplot(grouped_df2['Region'].values, grouped_df2['Unemployment_Rate'].values, alpha=0.8, color=color[2])\n",
    "plt.ylabel('Mean rate', fontsize=12)\n",
    "plt.xlabel('States', fontsize=12)\n",
    "plt.title(\"Mean Unemployment Rate based on Region\", fontsize=15)\n",
    "plt.xticks(rotation='vertical')\n",
    "plt.show()"
   ]
  },
  {
   "cell_type": "markdown",
   "id": "786dfec6",
   "metadata": {},
   "source": [
    "The top 4 states leading in unemployment were Uttar Pradesh, Haryana, Himachal Pradesh and Tripura"
   ]
  },
  {
   "cell_type": "code",
   "execution_count": 220,
   "id": "e7f97794",
   "metadata": {},
   "outputs": [
    {
     "data": {
      "image/png": "[encoded data removed]",
      "text/plain": [
       "<Figure size 576x360 with 1 Axes>"
      ]
     },
     "metadata": {},
     "output_type": "display_data"
    }
   ],
   "source": [
    "# take the mean of rate state by state\n",
    "grouped_df = data.groupby([\"Date\"])[\"Unemployment_Rate\"].aggregate(\"mean\").reset_index()\n",
    "grouped_df2 = data2.groupby([\"Date\"])[\"Unemployment_Rate\"].aggregate(\"mean\").reset_index()\n",
    "\n",
    "plt.figure(figsize=(8,5))\n",
    "sns.pointplot(grouped_df['Date'].values, grouped_df['Unemployment_Rate'].values, alpha=0.8, color=color[1])\n",
    "sns.pointplot(grouped_df2['Date'].values, grouped_df2['Unemployment_Rate'].values, alpha=0.8, color=color[2])\n",
    "plt.ylabel('Mean rate', fontsize=12)\n",
    "plt.xlabel('Date', fontsize=12)\n",
    "plt.title(\"Mean Unemployment Rate based on Date\", fontsize=15)\n",
    "plt.xticks(rotation='vertical')\n",
    "plt.show()"
   ]
  },
  {
   "cell_type": "markdown",
   "id": "df647d02",
   "metadata": {},
   "source": [
    "The unemployment rate was the highest in May of 2020"
   ]
  }
 ],
 "metadata": {
  "kernelspec": {
   "display_name": "Python 3 (ipykernel)",
   "language": "python",
   "name": "python3"
  },
  "language_info": {
   "codemirror_mode": {
    "name": "ipython",
    "version": 3
   },
   "file_extension": ".py",
   "mimetype": "text/x-python",
   "name": "python",
   "nbconvert_exporter": "python",
   "pygments_lexer": "ipython3",
   "version": "3.9.7"
  }
 },
 "nbformat": 4,
 "nbformat_minor": 5
}
